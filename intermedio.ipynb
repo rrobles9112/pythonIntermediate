{
 "cells": [
  {
   "cell_type": "code",
   "execution_count": null,
   "metadata": {
    "collapsed": true,
    "pycharm": {
     "is_executing": true
    }
   },
   "source": [
    "# List \n",
    "setA = {1,2,3,4,5,6,7,8,9}\n",
    "setB = {1,2,3,10,11,12}\n",
    "diff = setA.symmetric_difference(setB)\n",
    "print(diff)"
   ]
  },
  {
   "cell_type": "code",
   "execution_count": null,
   "metadata": {
    "collapsed": false,
    "pycharm": {
     "name": "#%%\n",
     "is_executing": true
    }
   },
   "source": [
    "setA = {1,2,3,4,5,6,7,8,9}\n",
    "setB = {1,2,3,10,11,12}\n",
    "\n",
    "diff = setA.difference(setB)\n",
    "print(diff)\n"
   ]
  },
  {
   "cell_type": "code",
   "execution_count": null,
   "metadata": {
    "collapsed": false,
    "pycharm": {
     "name": "#%%\n",
     "is_executing": true
    }
   },
   "source": [
    "setA = {1,2,3,4,5,6}\n",
    "setB = {1,2,3}\n",
    "print(setA.issuperset(setB))\n"
   ]
  },
  {
   "cell_type": "code",
   "execution_count": 1,
   "metadata": {
    "collapsed": false,
    "pycharm": {
     "name": "#%%\n"
    }
   },
   "source": [
    "setA = {1,2,3,4,5,6}\n",
    "setB = {1,2,3}\n",
    "print(setA.isdisjoint(setB))"
   ],
   "outputs": [
    {
     "name": "stdout",
     "output_type": "stream",
     "text": [
      "False\n"
     ]
    }
   ]
  },
  {
   "cell_type": "markdown",
   "metadata": {
    "collapsed": false
   },
   "source": [
    " Ahora estos son los ejercicios sobre Collections\n"
   ]
  },
  {
   "cell_type": "code",
   "execution_count": null,
   "metadata": {
    "collapsed": false,
    "pycharm": {
     "name": "#%%\n",
     "is_executing": true
    }
   },
   "source": [
    "from collections import Counter\n",
    "a = \"aaaaabbbbccc\"\n",
    "my_counter = Counter(a)\n",
    "print([my_counter.elements()])\n",
    "print(my_counter)\n",
    "print(my_counter.most_common(1)[0])\n",
    "print(my_counter.most_common(1)[0][0])\n",
    "print(my_counter.most_common(1)[0][1])"
   ]
  },
  {
   "cell_type": "code",
   "execution_count": null,
   "metadata": {
    "pycharm": {
     "is_executing": true
    }
   },
   "source": [
    "from collections import namedtuple\n",
    "\n",
    "Point = namedtuple('Point', \"x,y\")\n",
    "pt = Point(1,-5)\n",
    "print(pt)\n",
    "print(pt.x, pt.y)\n"
   ]
  },
  {
   "cell_type": "code",
   "execution_count": null,
   "metadata": {
    "pycharm": {
     "is_executing": true
    }
   },
   "source": [
    "from collections import OrderedDict\n",
    "ordered_dict = OrderedDict()\n",
    "ordered_dict['a'] = 1\n",
    "ordered_dict['b'] = 2\n",
    "ordered_dict['c'] = 3\n",
    "ordered_dict['d'] = 4\n",
    "print(ordered_dict)\n",
    "\n",
    "d1 = {}\n",
    "d1['a'] = 'A'\n",
    "d1['b'] = 'B'\n",
    "d1['c'] = 'C'\n",
    "\n",
    "d2 = {}\n",
    "d2['c'] = 'C'\n",
    "d2['b'] = 'B'\n",
    "d2['a'] = 'A'\n",
    "\n",
    "print(d1 == d2)\n",
    "print(d1)\n",
    "print(d2)\n",
    "\n",
    "d1 = OrderedDict()\n",
    "d1['a'] = 'A'\n",
    "d1['b'] = 'B'\n",
    "d1['c'] = 'C'\n",
    "\n",
    "d2 = OrderedDict()\n",
    "d2['c'] = 'C'\n",
    "d2['b'] = 'B'\n",
    "d2['a'] = 'A'\n",
    "\n",
    "print(d1 == d2)\n"
   ]
  },
  {
   "cell_type": "code",
   "execution_count": null,
   "metadata": {
    "collapsed": false,
    "pycharm": {
     "name": "#%%\n",
     "is_executing": true
    }
   },
   "source": [
    "from collections import defaultdict\n",
    "\n",
    "d = defaultdict(int)\n",
    "d['a']=1\n",
    "d['b']=2\n",
    "print(d['c'])\n"
   ]
  },
  {
   "cell_type": "code",
   "execution_count": null,
   "metadata": {
    "pycharm": {
     "is_executing": true
    }
   },
   "source": [
    "from collections import deque\n",
    "\n",
    "d = deque()\n",
    "d.append(1)\n",
    "d.append(2)\n",
    "d.appendleft(3)\n",
    "\n",
    "print(d)\n",
    "d.pop()\n",
    "print(d)\n",
    "d.popleft()\n",
    "print(d)\n",
    "d.extendleft([4,5,6])\n",
    "print(d)\n",
    "d.rotate(1)\n",
    "print(d)\n"
   ]
  },
  {
   "cell_type": "code",
   "execution_count": null,
   "metadata": {
    "collapsed": false,
    "pycharm": {
     "name": "#%%\n",
     "is_executing": true
    }
   },
   "source": [
    "string_a = \"Hello World\"\n",
    "string_a_with_spaces = \" untrimmed \"\n",
    "if 'e' in string_a:\n",
    "    print('yes')\n",
    "else:\n",
    "    print('no')\n",
    "substring = string_a[1:5]\n",
    "print(f\"Subtring es igual = {substring}\")\n",
    "string_b = \"richard\"\n",
    "concatenated_string = string_a + \" \" + string_b\n",
    "print(concatenated_string)\n",
    "for i in string_a:\n",
    "    print(f\"each character of string = {i}\")\n",
    "\n",
    "stripped_string = string_a_with_spaces.strip()\n",
    "print(f\"the striped string is {stripped_string}\")\n",
    "print(f\"the lowered string is {string_a.lower()}\")\n",
    "print(f\"the endWiths method output is {string_a.endswith('Hello')}\")\n",
    "print(f\"the find method output is {string_a.find('o')}\")\n",
    "print(f\"the find method output is {string_a.find('pp')}\")\n",
    "print(f\"the count method output is {string_a.count('o')}\")\n",
    "print(f\"the replace method output is {string_a.replace('World', 'Universe')}\")\n",
    "\n",
    "unsplitted_string = 'How,are,you,doing'\n",
    "my_list_from_string =unsplitted_string.split(\",\")\n",
    "print(my_list_from_string)\n",
    "\n",
    "#join a list of string\n",
    "\" \".join(my_list_from_string)\n",
    "# f-string, %f, format\n",
    "var = 3\n",
    "formatted_string = \"the variable is %d\" % var\n",
    "print(formatted_string)\n",
    "var = 3.14165746\n",
    "formatted_string = \"the variable is %f\" % var\n",
    "print(formatted_string)\n",
    "var = 3.14165746\n",
    "var2 = 6\n",
    "formatted_string = \"the variable is {:.2f} and {}\".format(var, var2)\n"
   ]
  },
  {
   "cell_type": "code",
   "execution_count": null,
   "metadata": {
    "pycharm": {
     "is_executing": true
    }
   },
   "source": [
    "from itertools import product\n",
    "\n",
    "a = [1,2]\n",
    "b = [3,4]\n",
    "\n",
    "prod = product(a, b)\n",
    "print(list(prod))"
   ]
  },
  {
   "cell_type": "code",
   "execution_count": null,
   "metadata": {
    "pycharm": {
     "is_executing": true
    }
   },
   "source": [
    "from itertools import combinations\n",
    "\n",
    "combinations = combinations(range(4), 3)\n",
    "print(list(combinations))  "
   ]
  },
  {
   "cell_type": "raw",
   "metadata": {},
   "source": []
  },
  {
   "cell_type": "code",
   "execution_count": null,
   "metadata": {
    "pycharm": {
     "is_executing": true
    }
   },
   "source": [
    "\n",
    "from itertools import permutations, combinations_with_replacement\n",
    "\n",
    "permutation_variable = permutations(range(4), 2) \n",
    "\n",
    "print(list(permutation_variable))\n",
    "\n",
    "combinations_with_replacement_variable = combinations_with_replacement(range(4), 2) \n",
    "\n",
    "print(list(combinations_with_replacement_variable))"
   ]
  },
  {
   "cell_type": "code",
   "execution_count": null,
   "metadata": {
    "pycharm": {
     "is_executing": true
    }
   },
   "source": [
    "from itertools import accumulate\n",
    "import operator\n",
    "\n",
    "a=[1,2,5,3,4]\n",
    "acc = accumulate(a, func=operator.mul)\n",
    "print(list(acc))\n"
   ]
  },
  {
   "cell_type": "code",
   "execution_count": null,
   "metadata": {
    "pycharm": {
     "is_executing": true
    }
   },
   "source": [
    "from itertools import groupby\n",
    "\n",
    "def smaller_than_three(x):\n",
    "    return x < 3\n",
    "\n",
    "a = [1,2,3,4]\n",
    "group_obj = groupby(a, key=smaller_than_three)\n",
    "for key, value in group_obj:\n",
    "    print(f\"group_by {key}\")\n",
    "    print(key, list(value))\n",
    "\n",
    "\n",
    "\n",
    "a = [1,2,3,4]\n",
    "group_obj = groupby(a, key=lambda x:x>3)\n",
    "for key, value in group_obj:\n",
    "    print(f\"group_by with lambda {key}\")\n",
    "    print(key, list(value))\n",
    "\n",
    "persons = [\n",
    "    {'name':'Tom', 'age':27},\n",
    "    {'age':25, 'name':'lisa'},\n",
    "    {'age':32, 'name':'Wallace'}\n",
    "]\n",
    "group_p = groupby(persons, key=lambda x: x['name'])\n",
    "for key, value in group_p:\n",
    "    print(f\"group_by with complex dict {key}\")\n",
    "    print(key, list(value))"
   ]
  },
  {
   "cell_type": "code",
   "execution_count": null,
   "metadata": {
    "pycharm": {
     "is_executing": true
    }
   },
   "source": [
    "from itertools import cycle, repeat, count\n",
    "\n",
    "for i in count(10):\n",
    "    print(i)\n",
    "    if i == 15:\n",
    "        break\n",
    "\n",
    "a = [1,2,3,4]\n",
    "for i in cycle(a):\n",
    "    print(i)\n",
    "    if i == 4:\n",
    "        break\n",
    "\n",
    "for i in repeat(a, 10):\n",
    "    print(i)\n",
    "  \n"
   ]
  },
  {
   "cell_type": "markdown",
   "metadata": {},
   "source": [
    "List: ordered, mutable, allows duplicates elements\n",
    "Tuple: ordered, inmutable, allow duplicates elements\n",
    "Dictionary: Key-Value pairs, unordered, Mutable\n",
    "Sets: unordered, mutable, no duplicates"
   ]
  },
  {
   "cell_type": "raw",
   "metadata": {},
   "source": [
    "add10 = lambda x: x+10\n",
    "print(add10(5))"
   ]
  },
  {
   "cell_type": "code",
   "execution_count": null,
   "metadata": {
    "pycharm": {
     "is_executing": true
    }
   },
   "source": [
    "add10 = lambda x: x+10\n",
    "print(add10(5))\n",
    "def add10_func(x):\n",
    "    return x + 10\n",
    "\n",
    "\n",
    "mult = lambda x,y: x*y\n",
    "print(mult(9,9))\n",
    "point2D = [(1,2),(15,1),(5,-1),(10,4)]\n",
    "# sort by key y from (x,y) tuple\n",
    "point2D_sorted = sorted(point2D, key=lambda x: x[1])\n",
    "print(point2D)\n",
    "print(point2D_sorted)\n",
    "point2D_sorted = sorted(point2D, key=lambda x: x[0] + x[1])\n",
    "print(point2D_sorted)\n",
    "map_var = [1,2,3,4,5]\n",
    "b = map(lambda x: x+2, map_var)\n",
    "print(list(b))\n",
    "c = [x+2 for x in map_var]\n",
    "print(c)\n",
    "b = filter(lambda x: x % 2 == 0, map_var)\n",
    "print(list(b))\n",
    "c = [x for x in map_var if x % 2 == 0]\n",
    "print(c)\n",
    "\n",
    "from functools import reduce\n",
    "\n",
    "a = [1,2,3,4,5,6,7]\n",
    "\n",
    "product_a = reduce(lambda x,y: x * y, a)\n",
    "print(product_a)"
   ]
  },
  {
   "cell_type": "markdown",
   "metadata": {},
   "source": [
    "handling exceptions"
   ]
  },
  {
   "cell_type": "code",
   "execution_count": null,
   "metadata": {
    "pycharm": {
     "is_executing": true
    }
   },
   "source": [
    "try:\n",
    "    a = 5 / 0\n",
    "    b = a + '10'\n",
    "    \n",
    "except ZeroDivisionError as e:\n",
    "        print(e)\n",
    "except TypeError as e:\n",
    "        print(e)\n",
    "else:\n",
    "    print(\"all everything is good\")\n",
    "\n",
    "class ValueTooHighError(Exception):\n",
    "    pass\n",
    "\n",
    "class ValueTooSmallError(Exception):\n",
    "\n",
    "    def __init__(self, message, value):\n",
    "        self.messages=message\n",
    "        self.value = value\n",
    "\n",
    "def test_value(x):\n",
    "    if(x > 100):\n",
    "        raise ValueTooHighError('Value is too high')\n",
    "\n",
    "    if(x > 5):\n",
    "        raise ValueTooSmallError('execed value', x)\n",
    "\n",
    "try:\n",
    "    test_value(10)\n",
    "\n",
    "except ValueTooSmallError as e:\n",
    "    print(e)\n",
    "except ValueTooHighError as e:\n",
    "    print(e.messages, e.value)\n",
    "\n"
   ]
  },
  {
   "cell_type": "code",
   "execution_count": null,
   "metadata": {
    "pycharm": {
     "is_executing": true
    }
   },
   "source": [
    "import logging\n",
    "\n",
    "logging.debug('this is debug msg')\n",
    "logging.info('this is info msg')\n",
    "logging.error('this is error msg')\n"
   ]
  },
  {
   "cell_type": "code",
   "execution_count": null,
   "metadata": {
    "collapsed": false,
    "pycharm": {
     "name": "#%%\n",
     "is_executing": true
    }
   },
   "source": [
    "import json\n",
    "\n",
    "# a Python object (dict):\n",
    "x = {\n",
    "  \"name\": \"John\",\n",
    "  \"age\": 30,\n",
    "  \"city\": \"New York\"\n",
    "}\n",
    "\n",
    "# convert into JSON:\n",
    "y = json.dumps(x)\n",
    "\n",
    "# the result is a JSON string:\n",
    "print(y)\n",
    "print(json.dumps({\"name\": \"John\", \"age\": 30}))\n",
    "print(json.dumps([\"apple\", \"bananas\"]))\n",
    "print(json.dumps((\"apple\", \"bananas\")))\n",
    "print(json.dumps(\"hello\"))\n",
    "print(json.dumps(42))\n",
    "print(json.dumps(31.76))\n",
    "print(json.dumps(True))\n",
    "print(json.dumps(False))\n",
    "print(json.dumps(None))\n",
    "\n",
    "x = {\n",
    "  \"name\": \"John\",\n",
    "  \"age\": 30,\n",
    "  \"married\": True,\n",
    "  \"divorced\": False,\n",
    "  \"children\": (\"Ann\",\"Billy\"),\n",
    "  \"pets\": None,\n",
    "  \"cars\": [\n",
    "    {\"model\": \"BMW 230\", \"mpg\": 27.5},\n",
    "    {\"model\": \"Ford Edge\", \"mpg\": 24.1}\n",
    "  ]\n",
    "}\n",
    "\n",
    "print(json.dumps(x))\n",
    "json.dumps(x, indent=4)\n",
    "json.dumps(x, indent=4, sort_keys=True)\n",
    "# String with JSON format\n",
    "data_JSON =  \"\"\"\n",
    "{\n",
    "\t\"size\": \"Medium\",\n",
    "\t\"price\": 15.67,\n",
    "\t\"toppings\": [\"Mushrooms\", \"Extra Cheese\", \"Pepperoni\", \"Basil\"],\n",
    "\t\"client\": {\n",
    "\t\t\"name\": \"Jane Doe\",\n",
    "\t\t\"phone\": \"455-344-234\",\n",
    "\t\t\"email\": \"janedoe@email.com\"\n",
    "\t}\n",
    "}\n",
    "\"\"\"\n",
    "\n",
    "# Convert JSON string to dictionary\n",
    "data_dict = json.loads(data_JSON)\n",
    "print(data_dict)\n",
    "with open(\"json.json\") as file:\n",
    "    data = json.load(file)\n",
    "    print(data)\n",
    "class User():\n",
    "    def __init__(self, name, age):\n",
    "        self.name = name\n",
    "        self.age = age\n",
    "\n",
    "\n",
    "user = User('Richard',29)\n",
    "\n",
    "def encode_user(o):\n",
    "    if isinstance(o, User):\n",
    "        return {'name':o.name, 'age': o.age, o.__class__.__name__: True}\n",
    "    else:\n",
    "        raise TypeError(\"Object of type User is not JSON serializable\")\n",
    "\n",
    "userJSON = json.dumps(user, default=encode_user)\n",
    "print(userJSON)\n",
    "\n",
    "from json import JSONEncoder\n",
    "\n",
    "class UserEncode(JSONEncoder):\n",
    "    def default(self, o):\n",
    "        if isinstance(o, User):\n",
    "            return {'name':o.name, 'age': o.age, o.__class__.__name__: True}\n",
    "        return  JSONEncoder.default(self, o)\n",
    "\n",
    "userJSON = UserEncode().encode(user)\n",
    "print(userJSON)\n"
   ]
  },
  {
   "cell_type": "code",
   "execution_count": null,
   "metadata": {
    "pycharm": {
     "is_executing": true
    }
   },
   "source": [
    "import random, secrets\n",
    "\n",
    "print(random.randint(1,10\n",
    "rdom_uni = rand.sample(1,20)\n",
    "print(rand_uni)))\n",
    "print(random.seed(1))\n",
    "print(secrets.randbits(4))\n"
   ]
  },
  {
   "cell_type": "code",
   "execution_count": null,
   "metadata": {
    "pycharm": {
     "is_executing": true
    }
   },
   "source": [
    "from collections import defaultdict\n",
    "ips = [\n",
    "  '1.1.1.1', \n",
    "  '2.2.2.2', \n",
    "  '1.10.23.4', \n",
    "  '5.80.2.3',\n",
    "  '2.4.5.6',\n",
    "  '192.168.1.1',\n",
    "]\n",
    "ips_by_country = {}\n",
    "ips_by_country['us'] = set([ip for ip in ips if ip.startswith('1.')])\n",
    "ips_by_country['mx'] = set([ip for ip in ips if ip.startswith('2.')])\n",
    "ips_by_country['ar'] = set([ip for ip in ips if ip.startswith('5.')])\n",
    "ips_by_country['unknown'] = set([ip for ip in ips if ip.startswith('192.')])\n",
    "print(ips_by_country)\n",
    "\n",
    "\n",
    "\n",
    "# This tests your code\n",
    "\n",
    "assert ips_by_country == {\n",
    "  'us': set(['1.1.1.1', '1.10.23.4']),\n",
    "  'mx': set(['2.2.2.2', '2.4.5.6']),\n",
    "  'ar': set(['5.80.2.3']),\n",
    "  'unknown': set(['192.168.1.1']),\n",
    "}\n",
    "print('You passed the test!')\n"
   ]
  },
  {
   "cell_type": "code",
   "execution_count": null,
   "metadata": {
    "collapsed": false,
    "pycharm": {
     "name": "#%%\n",
     "is_executing": true
    }
   },
   "source": [
    "x = \"global \"\n",
    "\n",
    "def foo():\n",
    "    global x\n",
    "    y = \"local\"\n",
    "    x = x * 2\n",
    "    print(x)\n",
    "    print(y)\n",
    "\n",
    "\n",
    "foo()\n",
    "\n",
    "print(25//2)"
   ]
  },
  {
   "cell_type": "markdown",
   "source": [
    "DECORATOR"
   ],
   "metadata": {
    "collapsed": false
   }
  },
  {
   "cell_type": "code",
   "execution_count": null,
   "source": [
    "def start_end_decorator(func):\n",
    "    def wrapper(*args, **kwargs):\n",
    "        print('Start')\n",
    "        result = func(*args, **kwargs)\n",
    "        print('End')\n",
    "        return result\n",
    "\n",
    "    return wrapper\n",
    "\n",
    "@start_end_decorator\n",
    "def add5(x):\n",
    "    return x * 5\n",
    "\n",
    "result = add5(10)\n",
    "print(result)\n",
    "print(help(add5))\n",
    "\n",
    "def italic(func):\n",
    "\n",
    "    def wrapper():\n",
    "        return '<i>' + func() + '</i>'\n",
    "\n",
    "    return wrapper\n",
    "\n",
    "def strong(func):\n",
    "\n",
    "    def wrapper():\n",
    "        return '<strong>' + func() + '</strong>'\n",
    "\n",
    "    return wrapper\n",
    "\n",
    "\n",
    "@italic\n",
    "@strong\n",
    "def introduction():\n",
    "    return 'This is a basic program'\n",
    "\n",
    "print(introduction())\n",
    "\n",
    "\n",
    "class MyDecorator:\n",
    "\n",
    "    def __init__(self, function):\n",
    "        self.function = function\n",
    "\n",
    "    def __call__(self):\n",
    "        print(\"Inside Function Call\")\n",
    "        self.function()\n",
    "\n",
    "@MyDecorator\n",
    "def function():\n",
    "    print(\"GeeksforGeeks\")\n",
    "\n",
    "function()\n",
    "\n",
    "\n",
    "import functools\n",
    "import time\n",
    "\n",
    "def sort_by_creation_time(cl):\n",
    "    org_init = cl.__init__\n",
    "\n",
    "    # Enhance the class to store the creation\n",
    "    # time based on the instantiation.\n",
    "    @functools.wraps(org_init)\n",
    "    def new_init(self, *args, **kwargs):\n",
    "        org_init(self, *args, **kwargs)\n",
    "        self._created = time.time()\n",
    "\n",
    "    # __lt__ and __gt__ methods return true or false\n",
    "    # based on the creation time.\n",
    "    cl.__init__ = new_init\n",
    "    cl.__lt = lambda self, other: self._created < other._created\n",
    "    cl.__gt__ = lambda self, other: self._created > other._created\n",
    "    return cl\n",
    "\n",
    "@sort_by_creation_time\n",
    "class Sort(object):\n",
    "    def __init__(self, identifier):\n",
    "        self.identifier = identifier\n",
    "\n",
    "    def __repr__(self):\n",
    "        return self.identifier\n",
    "\n",
    "first = Sort('Python')\n",
    "second = Sort('Data Analysis')\n",
    "third = Sort('Machine Learning')\n",
    "\n",
    "sortables = [third, first, second]\n",
    "print(sorted(sortables))"
   ],
   "metadata": {
    "collapsed": false,
    "pycharm": {
     "name": "#%%\n",
     "is_executing": true
    }
   }
  },
  {
   "cell_type": "code",
   "execution_count": null,
   "source": [
    "# Python program to illustrate\n",
    "# *args for variable number of arguments\n",
    "def myFun(*argv):\n",
    "    for arg in argv:\n",
    "        print (arg)\n",
    "\n",
    "myFun('Hello', 'Welcome', 'to', 'GeeksforGeeks')\n",
    "\n",
    "# Python program to illustrate\n",
    "# *kargs for variable number of keyword arguments\n",
    "\n",
    "def myFun(**kwargs):\n",
    "    for key, value in kwargs.items():\n",
    "        print (\"%s == %s\" %(key, value))\n",
    "\n",
    "# Driver code\n",
    "myFun(first ='Geeks', mid ='for', last='Geeks')\n",
    "\n",
    "# importing time module\n",
    "from time import time\n",
    "class Timer:\n",
    "\n",
    "    def __init__(self, func):\n",
    "        self.function = func\n",
    "\n",
    "    def __call__(self, *args, **kwargs):\n",
    "        start_time = time()\n",
    "        result = self.function(*args, **kwargs)\n",
    "        end_time = time()\n",
    "        print(\"Execution took {} seconds\".format(end_time-start_time))\n",
    "        return result\n",
    "\n",
    "\n",
    "# adding a decorator to the function\n",
    "@Timer\n",
    "def some_function(delay):\n",
    "    from time import sleep\n",
    "\n",
    "    # Introducing some time delay to\n",
    "    # simulate a time taking function.\n",
    "    sleep(delay)\n",
    "\n",
    "some_function(3)\n",
    "# creating class A\n",
    "class A :\n",
    "    def Decorators(func) :\n",
    "        def inner(self) :\n",
    "            print('Decoration started.')\n",
    "            func(self)\n",
    "            print('Decoration of function completed.\\n')\n",
    "        return inner\n",
    "\n",
    "    @Decorators\n",
    "    def fun1(self) :\n",
    "        print('Decorating - Class A methods.')\n",
    "\n",
    "# creating class B\n",
    "class B(A) :\n",
    "    @A.Decorators\n",
    "    def fun2(self) :\n",
    "        print('Decoration - Class B methods.')\n",
    "\n",
    "obj = B()\n",
    "obj.fun1()\n",
    "obj.fun2()"
   ],
   "metadata": {
    "collapsed": false,
    "pycharm": {
     "name": "#%%\n",
     "is_executing": true
    }
   }
  },
  {
   "cell_type": "code",
   "execution_count": null,
   "metadata": {
    "pycharm": {
     "is_executing": true
    }
   },
   "source": [
    "from multiprocessing import Pool\n",
    "\n",
    "def f(x):\n",
    "    return x**x\n",
    "\n",
    "\n",
    "with Pool(5) as p:\n",
    "    print(p.map(f, [1,2,3]))\n",
    "\n"
   ]
  }
 ],
 "metadata": {
  "kernelspec": {
   "display_name": "Python 3",
   "language": "python",
   "name": "python3"
  },
  "language_info": {
   "codemirror_mode": {
    "name": "ipython",
    "version": 3
   },
   "file_extension": ".py",
   "mimetype": "text/x-python",
   "name": "python",
   "nbconvert_exporter": "python",
   "pygments_lexer": "ipython3",
   "version": "3.8.3-final"
  }
 },
 "nbformat": 4,
 "nbformat_minor": 0
}