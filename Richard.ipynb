{
 "cells": [
  {
   "cell_type": "code",
   "execution_count": 11,
   "metadata": {},
   "outputs": [
    {
     "name": "stdout",
     "output_type": "stream",
     "text": [
      "[(0, 1), (0, 2), (1, 0), (1, 2), (2, 0), (2, 1)]\n"
     ]
    }
   ],
   "source": [
    "from itertools import permutations\n",
    "\n",
    "permutations = permutations(range(3), 2)\n",
    "print(list(permutations))"
   ]
  },
  {
   "cell_type": "code",
   "execution_count": 12,
   "metadata": {},
   "outputs": [
    {
     "name": "stdout",
     "output_type": "stream",
     "text": [
      "[(0, 1), (0, 2), (1, 2)]\n"
     ]
    }
   ],
   "source": [
    "from itertools import combinations\n",
    "\n",
    "combinations_posibles = combinations(range(3),2)\n",
    "print(list(combinations_posibles))\n"
   ]
  },
  {
   "cell_type": "code",
   "execution_count": 14,
   "metadata": {},
   "outputs": [
    {
     "name": "stdout",
     "output_type": "stream",
     "text": [
      "Ram False\n",
      "Called class Student with name: Shivam\n",
      "Shivam True None\n"
     ]
    }
   ],
   "source": [
    "# Base class or Parent class\n",
    "class Child:\n",
    "\n",
    "    # Constructor\n",
    "    def __init__(self, name):\n",
    "        self.name = name\n",
    "\n",
    "    # To get name\n",
    "    def getName(self):\n",
    "        return self.name\n",
    "\n",
    "    # To check if this person is student\n",
    "    def isStudent(self):\n",
    "        return False\n",
    "\n",
    "# Derived class or Child class\n",
    "\n",
    "\n",
    "class Student(Child):\n",
    "\n",
    "    def __call__(self):\n",
    "        print(\"Called class\", self)\n",
    "    \n",
    "    def __str__(self):\n",
    "        return f\"Student with name: {self.getName()}\"\n",
    "    \n",
    "    # True is returned\n",
    "    def isStudent(self):\n",
    "        return True\n",
    "\n",
    "\n",
    "# Driver code\n",
    "# An Object of Child\n",
    "std = Child(\"Ram\")\n",
    "print(std.getName(), std.isStudent())\n",
    "\n",
    "# An Object of Student\n",
    "std = Student(\"Shivam\")\n",
    "\n",
    "print(std.getName(), std.isStudent(), std.__call__())\n"
   ]
  },
  {
   "cell_type": "code",
   "execution_count": 5,
   "metadata": {},
   "outputs": [
    {
     "name": "stdout",
     "output_type": "stream",
     "text": [
      "day\n",
      "dya\n",
      "ady\n",
      "ayd\n",
      "yad\n",
      "yda\n",
      "None\n"
     ]
    }
   ],
   "source": [
    "# Python program to print all permutations with\n",
    "# duplicates allowed\n",
    "def string_permutations(s, i, n): \n",
    "    if i==n: \n",
    "        print(''.join(s) )\n",
    "    else: \n",
    "        for j in range(i,n): \n",
    "            s[i], s[j] = s[j], s[i] \n",
    "            string_permutations(s, i+1, n) \n",
    "            s[i], s[j] = s[j], s[i]  \n",
    "  \n",
    "a = \"day\"\n",
    "x = len(a) \n",
    "s = list(a) \n",
    "print(string_permutations(s, 0, x))\n",
    "\n",
    "\n"
   ]
  }
 ],
 "metadata": {
  "kernelspec": {
   "display_name": "Python 3",
   "name": "python3"
  },
  "language_info": {
   "codemirror_mode": {
    "name": "ipython",
    "version": 3
   },
   "file_extension": ".py",
   "mimetype": "text/x-python",
   "name": "python",
   "nbconvert_exporter": "python",
   "pygments_lexer": "ipython3",
   "version": "3.8.12"
  },
  "orig_nbformat": 2
 },
 "nbformat": 4,
 "nbformat_minor": 2
}
